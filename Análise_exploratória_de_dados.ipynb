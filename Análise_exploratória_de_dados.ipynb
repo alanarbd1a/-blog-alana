{
  "nbformat": 4,
  "nbformat_minor": 0,
  "metadata": {
    "colab": {
      "provenance": [],
      "authorship_tag": "ABX9TyP/gxcoRiDueu6R8rd8k6VX",
      "include_colab_link": true
    },
    "kernelspec": {
      "name": "python3",
      "display_name": "Python 3"
    },
    "language_info": {
      "name": "python"
    }
  },
  "cells": [
    {
      "cell_type": "markdown",
      "metadata": {
        "id": "view-in-github",
        "colab_type": "text"
      },
      "source": [
        "<a href=\"https://colab.research.google.com/github/alanarbd1a/-blog-alana/blob/main/An%C3%A1lise_explorat%C3%B3ria_de_dados.ipynb\" target=\"_parent\"><img src=\"https://colab.research.google.com/assets/colab-badge.svg\" alt=\"Open In Colab\"/></a>"
      ]
    },
    {
      "cell_type": "markdown",
      "source": [
        "## Análise exploratória de dados sobre o uso de telas\n",
        "\n",
        "**Objetivo do projeto**\n",
        "\n",
        "Realizar uma análise exploratória de dados (EDA) para compreender padrões, tendências e possíveis impactos do uso de telas (celulares, computadores, tablets, TVs etc.) em diferentes grupos de usuários."
      ],
      "metadata": {
        "id": "zno--8fhfZQ1"
      }
    },
    {
      "cell_type": "markdown",
      "source": [
        "**Perguntas de pesquisa**\n",
        "* tempo médio diário?\n",
        "* diferenças significativas no tempo de uso entre diferentes faixas etárias?\n",
        "* Em quais horários do dia o uso de telas é mais intenso?\n",
        "* O uso excessivo de telas está relacionado a níveis mais altos de estresse, cansaço visual ou ansiedade?\n",
        "* Quais variáveis mais influenciam o tempo total de uso de telas?"
      ],
      "metadata": {
        "id": "60FrD-S6gbBq"
      }
    },
    {
      "cell_type": "code",
      "source": [
        "import pandas as pd"
      ],
      "metadata": {
        "id": "-hYes2u6hh-a"
      },
      "execution_count": null,
      "outputs": []
    },
    {
      "cell_type": "code",
      "source": [
        "dados = pd.read_csv()"
      ],
      "metadata": {
        "id": "MldTgKsphsMv"
      },
      "execution_count": null,
      "outputs": []
    }
  ]
}